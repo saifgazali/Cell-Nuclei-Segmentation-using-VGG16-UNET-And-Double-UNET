{
  "nbformat": 4,
  "nbformat_minor": 0,
  "metadata": {
    "accelerator": "GPU",
    "colab": {
      "name": "NucleiCellSegmentation.ipynb",
      "provenance": []
    },
    "kernelspec": {
      "display_name": "Python 3",
      "name": "python3"
    },
    "language_info": {
      "name": "python"
    }
  },
  "cells": [
    {
      "cell_type": "code",
      "metadata": {
        "id": "z5YBW-XZycbB"
      },
      "source": [
        "from keras.optimizers import Adam\n",
        "from keras.initializers import RandomNormal\n",
        "from keras.models import Model\n",
        "from keras.models import Input\n",
        "from keras.layers import Conv2D\n",
        "from keras.layers import LeakyReLU\n",
        "from keras.layers import Activation\n",
        "from keras.layers import Concatenate\n",
        "from keras.layers import BatchNormalization,Conv2DTranspose,Dropout\n",
        "from keras.utils.vis_utils import plot_model\n",
        "from numpy import load\n",
        "from numpy import zeros\n",
        "from numpy import ones\n",
        "from numpy.random import randint\n",
        "from keras.optimizers import Adam\n",
        "from keras.initializers import RandomNormal\n",
        "import matplotlib.pyplot as plt\n",
        "import os\n",
        "import numpy as np\n",
        "import cv2\n",
        "from glob import glob\n",
        "from tqdm import tqdm\n",
        "import imageio\n",
        "from albumentations import HorizontalFlip, VerticalFlip,ElasticTransform,GridDistortion,RandomRotate90,Transpose,OpticalDistortion,RandomSizedCrop,CenterCrop,Crop,PadIfNeeded"
      ],
      "execution_count": null,
      "outputs": []
    },
    {
      "cell_type": "code",
      "metadata": {
        "colab": {
          "base_uri": "https://localhost:8080/"
        },
        "id": "jACv_jHIzZNp",
        "outputId": "a76898e4-3a5a-42fc-e78b-28f96c4bbbd9"
      },
      "source": [
        "from google.colab import drive\n",
        "drive.mount('/content/drive/')"
      ],
      "execution_count": null,
      "outputs": [
        {
          "name": "stdout",
          "output_type": "stream",
          "text": [
            "Mounted at /content/drive/\n"
          ]
        }
      ]
    },
    {
      "cell_type": "code",
      "metadata": {
        "id": "MbrlfVoGzZQe"
      },
      "source": [
        "import cv2\n",
        "from tensorflow.keras.initializers import RandomNormal\n",
        "from tensorflow.keras.layers import Input,Conv2D,Conv2DTranspose,Dropout,Concatenate,LeakyReLU,BatchNormalization,Activation\n",
        "from tensorflow.keras.models import Model\n",
        "from tensorflow.keras.optimizers import Adam\n",
        "import tensorflow as tf\n",
        "from tensorflow.keras.metrics import Recall,Precision"
      ],
      "execution_count": null,
      "outputs": []
    },
    {
      "cell_type": "code",
      "metadata": {
        "id": "65lwmplM8ngh"
      },
      "source": [
        "def create_dir(path):\n",
        "    if not os.path.exists(path):\n",
        "        os.makedirs(path)"
      ],
      "execution_count": null,
      "outputs": []
    },
    {
      "cell_type": "code",
      "metadata": {
        "id": "enz_qPtNzlmY"
      },
      "source": [
        "from sklearn.utils import shuffle\n",
        "def shuffling(x,y):\n",
        "    x,y = shuffle(x,y)\n",
        "    return x,y"
      ],
      "execution_count": null,
      "outputs": []
    },
    {
      "cell_type": "code",
      "metadata": {
        "id": "W6gkJILYzZTF"
      },
      "source": [
        "from sklearn.model_selection import train_test_split\n",
        "def load_path(path,split=0.2):\n",
        "    X = sorted(glob(os.path.join(path,\"images\",\"*.jpg\")))\n",
        "    Y = sorted(glob(os.path.join(path,\"masks\",\"*.jpg\")))\n",
        "    \n",
        "    size = int(len(X) * split)\n",
        "    train_x,valid_x = train_test_split(X,test_size=size,random_state=1)\n",
        "    train_y,valid_y = train_test_split(Y,test_size=size,random_state=1)\n",
        "\n",
        "    train_x,test_x = train_test_split(train_x,test_size=size,random_state=1)\n",
        "    train_y,test_y = train_test_split(train_y,test_size=size,random_state=1)\n",
        "\n",
        "    return (train_x,train_y), (valid_x,valid_y), (test_x,test_y)\n",
        "\n"
      ],
      "execution_count": null,
      "outputs": []
    },
    {
      "cell_type": "code",
      "metadata": {
        "id": "hrROPyzWzZVu"
      },
      "source": [
        "path = '/content/drive/MyDrive/DSB'\n",
        "(train_x,train_y), (valid_x,valid_y), (test_x,test_y) = load_path(path)"
      ],
      "execution_count": null,
      "outputs": []
    },
    {
      "cell_type": "code",
      "metadata": {
        "colab": {
          "base_uri": "https://localhost:8080/"
        },
        "id": "glt8ee7LzZYP",
        "outputId": "fe2ef4fe-f314-4b70-8a4a-a211c0ce2f51"
      },
      "source": [
        "print(len(train_x),'-',len(train_y))\n",
        "print(len(valid_x),'-',len(valid_y))\n",
        "print(len(test_x),'-',len(test_y))"
      ],
      "execution_count": null,
      "outputs": [
        {
          "name": "stdout",
          "output_type": "stream",
          "text": [
            "402 - 402\n",
            "134 - 134\n",
            "134 - 134\n"
          ]
        }
      ]
    },
    {
      "cell_type": "code",
      "metadata": {
        "id": "DWFhNdYV3h3s"
      },
      "source": [
        ""
      ],
      "execution_count": null,
      "outputs": []
    },
    {
      "cell_type": "code",
      "metadata": {
        "id": "-MlpklDzLSGi"
      },
      "source": [
        "def read_image(path):\n",
        "    path = path.decode()\n",
        "    x = cv2.imread(path,cv2.IMREAD_COLOR)\n",
        "    x = cv2.resize(x,(256,256))\n",
        "    x = x/255.0\n",
        "    x = x.astype(np.float32)\n",
        "    return x"
      ],
      "execution_count": null,
      "outputs": []
    },
    {
      "cell_type": "code",
      "metadata": {
        "id": "EsOx11SL38Gu"
      },
      "source": [
        "def read_mask(path):\n",
        "    path = path.decode()\n",
        "    x = cv2.imread(path,cv2.IMREAD_GRAYSCALE)\n",
        "    x = cv2.resize(x,(256,256))\n",
        "    x = x/255.0\n",
        "    x = x.astype(np.float32)\n",
        "    x = np.expand_dims(x,axis=-1) #(256,256,1)\n",
        "    return x"
      ],
      "execution_count": null,
      "outputs": []
    },
    {
      "cell_type": "code",
      "metadata": {
        "id": "9ECHwMJB3tu3"
      },
      "source": [
        "def tf_parse(x,y):\n",
        "    def _parse(x,y):\n",
        "        x= read_image(x)\n",
        "        y = read_mask(y)\n",
        "        return x,y\n",
        "    x,y = tf.numpy_function(_parse,[x,y],[tf.float32,tf.float32])\n",
        "    x.set_shape([256,256,3])\n",
        "    y.set_shape([256,256,1])\n",
        "    return x,y\n",
        "    "
      ],
      "execution_count": null,
      "outputs": []
    },
    {
      "cell_type": "code",
      "metadata": {
        "id": "UTmAae9B3h6D"
      },
      "source": [
        "def tf_dataset(X,Y,batch_size=2):\n",
        "    dataset = tf.data.Dataset.from_tensor_slices((X,Y))\n",
        "    dataset = dataset.map(tf_parse)\n",
        "    dataset = dataset.batch(batch_size)\n",
        "    dataset = dataset.prefetch(4)\n",
        "    return dataset"
      ],
      "execution_count": null,
      "outputs": []
    },
    {
      "cell_type": "code",
      "metadata": {
        "id": "sLXWLMal4FXG"
      },
      "source": [
        "# directory to save files\n",
        "create_dir(\"/content/drive/MyDrive/cellNuclei/files\")\n",
        "\n",
        "#Hyperparameters\n",
        "batch_size=2\n",
        "lr = 1e-4\n",
        "num_epochs = 100\n",
        "model_path = os.path.join(\"/content/drive/MyDrive/cellNuclei/files\",\"model.h5\")\n",
        "csv_path = os.path.join(\"/content/drive/MyDrive/cellNuclei/files\",\"data.csv\")"
      ],
      "execution_count": null,
      "outputs": []
    },
    {
      "cell_type": "code",
      "metadata": {
        "id": "1OaWB4aDLcLz"
      },
      "source": [
        "train_dataset = tf_dataset(train_x,train_y)\n",
        "valid_dataset = tf_dataset(valid_x,valid_y)"
      ],
      "execution_count": null,
      "outputs": []
    },
    {
      "cell_type": "code",
      "metadata": {
        "id": "_QzCQaYK4FaT"
      },
      "source": [
        "#no of steps\n",
        "train_steps = len(train_x)//batch_size\n",
        "test_steps = len(valid_x)//batch_size"
      ],
      "execution_count": null,
      "outputs": []
    },
    {
      "cell_type": "code",
      "metadata": {
        "colab": {
          "base_uri": "https://localhost:8080/"
        },
        "id": "d1xPUL_W4lBg",
        "outputId": "ba98ac02-b4ff-43eb-b76f-ba0de3f114df"
      },
      "source": [
        "print(train_steps)\n",
        "print(test_steps)"
      ],
      "execution_count": null,
      "outputs": [
        {
          "name": "stdout",
          "output_type": "stream",
          "text": [
            "201\n",
            "67\n"
          ]
        }
      ]
    },
    {
      "cell_type": "code",
      "metadata": {
        "id": "T-TgDbha4lEc"
      },
      "source": [
        "if len(train_x) % batch_size != 0:\n",
        "    train_steps +=1\n",
        "if len(valid_x) % batch_size != 0:\n",
        "    test_steps +=1"
      ],
      "execution_count": null,
      "outputs": []
    },
    {
      "cell_type": "code",
      "metadata": {
        "colab": {
          "base_uri": "https://localhost:8080/"
        },
        "id": "_jmtzHy-3h86",
        "outputId": "3d18a319-d3cd-4fc3-e683-f07520787eb6"
      },
      "source": [
        "print(train_steps)\n",
        "print(test_steps)"
      ],
      "execution_count": null,
      "outputs": [
        {
          "name": "stdout",
          "output_type": "stream",
          "text": [
            "201\n",
            "67\n"
          ]
        }
      ]
    },
    {
      "cell_type": "code",
      "metadata": {
        "id": "mETxaaFN46KU"
      },
      "source": [
        "def iou(y_true,y_pred):\n",
        "    def f(y_true,y_pred):\n",
        "        intersection = (y_true*y_pred).sum()\n",
        "        union = y_true.sum() + y_pred.sum() - intersection\n",
        "        x = (intersection + 1e-15) / (union + 1e-15)\n",
        "        x = x.astype(np.float32)\n",
        "        return x\n",
        "    return tf.numpy_function(f,[y_true,y_pred],tf.float32)"
      ],
      "execution_count": null,
      "outputs": []
    },
    {
      "cell_type": "code",
      "metadata": {
        "id": "A7qKQ7cc46M6"
      },
      "source": [
        "smooth = 1e-15\n",
        "def dice_coef(y_true,y_pred):\n",
        "    y_true = tf.keras.layers.Flatten()(y_true)\n",
        "    y_pred = tf.keras.layers.Flatten()(y_pred)\n",
        "    intersection = tf.reduce_sum(y_true*y_pred)\n",
        "    return (2. * intersection + smooth) / (tf.reduce_sum(y_true) + tf.reduce_sum(y_pred))"
      ],
      "execution_count": null,
      "outputs": []
    },
    {
      "cell_type": "code",
      "metadata": {
        "id": "GvliB1pr46Q5"
      },
      "source": [
        "def dice_loss(y_true,y_pred):\n",
        "    return 1.0 - dice_coef(y_true,y_pred)"
      ],
      "execution_count": null,
      "outputs": []
    },
    {
      "cell_type": "code",
      "metadata": {
        "colab": {
          "base_uri": "https://localhost:8080/"
        },
        "id": "PgmWcqYi5EEE",
        "outputId": "9f62b826-8ee3-4d9b-fe52-c373ec4d123c"
      },
      "source": [
        "!pip install git+https://www.github.com/keras-team/keras-contrib.git"
      ],
      "execution_count": null,
      "outputs": [
        {
          "name": "stdout",
          "output_type": "stream",
          "text": [
            "Collecting git+https://www.github.com/keras-team/keras-contrib.git\n",
            "  Cloning https://www.github.com/keras-team/keras-contrib.git to /tmp/pip-req-build-aznp4k9d\n",
            "  Running command git clone -q https://www.github.com/keras-team/keras-contrib.git /tmp/pip-req-build-aznp4k9d\n",
            "Requirement already satisfied: keras in /usr/local/lib/python3.7/dist-packages (from keras-contrib==2.0.8) (2.4.3)\n",
            "Requirement already satisfied: scipy>=0.14 in /usr/local/lib/python3.7/dist-packages (from keras->keras-contrib==2.0.8) (1.4.1)\n",
            "Requirement already satisfied: h5py in /usr/local/lib/python3.7/dist-packages (from keras->keras-contrib==2.0.8) (3.1.0)\n",
            "Requirement already satisfied: pyyaml in /usr/local/lib/python3.7/dist-packages (from keras->keras-contrib==2.0.8) (3.13)\n",
            "Requirement already satisfied: numpy>=1.9.1 in /usr/local/lib/python3.7/dist-packages (from keras->keras-contrib==2.0.8) (1.19.5)\n",
            "Requirement already satisfied: cached-property; python_version < \"3.8\" in /usr/local/lib/python3.7/dist-packages (from h5py->keras->keras-contrib==2.0.8) (1.5.2)\n",
            "Building wheels for collected packages: keras-contrib\n",
            "  Building wheel for keras-contrib (setup.py) ... \u001b[?25l\u001b[?25hdone\n",
            "  Created wheel for keras-contrib: filename=keras_contrib-2.0.8-cp37-none-any.whl size=101065 sha256=d122bfa80b3e0a619840b37e9d24d0d9b5e7503d91fe7375a65be0ee2071bea6\n",
            "  Stored in directory: /tmp/pip-ephem-wheel-cache-ultvpfwy/wheels/11/27/c8/4ed56de7b55f4f61244e2dc6ef3cdbaff2692527a2ce6502ba\n",
            "Successfully built keras-contrib\n",
            "Installing collected packages: keras-contrib\n",
            "Successfully installed keras-contrib-2.0.8\n"
          ]
        }
      ]
    },
    {
      "cell_type": "code",
      "metadata": {
        "id": "wS3usB3o5EGp"
      },
      "source": [
        "from keras_contrib.layers.normalization.instancenormalization import InstanceNormalization"
      ],
      "execution_count": null,
      "outputs": []
    },
    {
      "cell_type": "code",
      "metadata": {
        "id": "x0jcbd6Q5t-S"
      },
      "source": [
        "\n",
        "def conv_block(inputs,num_filters):\n",
        "  init = RandomNormal(stddev=0.02)\n",
        "  x = Conv2D(num_filters,3,padding='same',kernel_initializer=init)(inputs)\n",
        "  x = InstanceNormalization(axis=-1)(x)\n",
        "  x = Activation('relu')(x)\n",
        "\n",
        "  x = Conv2D(num_filters,3,padding='same',kernel_initializer=init)(x)\n",
        "  x = InstanceNormalization(axis=-1)(x)\n",
        "  x = Activation('relu')(x)\n",
        "\n",
        "  return x"
      ],
      "execution_count": null,
      "outputs": []
    },
    {
      "cell_type": "code",
      "metadata": {
        "id": "rDeNhc6Y5uBL"
      },
      "source": [
        "def define_decoder(inputs,skip_layer,num_filters):\n",
        "  init = RandomNormal(stddev=0.02)\n",
        "  x = Conv2DTranspose(num_filters,(2,2),strides=(2,2),padding='same',kernel_initializer=init)(inputs)\n",
        "  g = Concatenate()([x,skip_layer])\n",
        "  g = conv_block(g,num_filters)\n",
        "  return g"
      ],
      "execution_count": null,
      "outputs": []
    },
    {
      "cell_type": "code",
      "metadata": {
        "id": "Z8XAYJSZ5wo7"
      },
      "source": [
        "from keras.applications.vgg16 import VGG16\n",
        "from keras.layers import Input,Conv2DTranspose,BatchNormalization,Dropout,Concatenate,Activation,Conv2D\n",
        "from keras.models import Model\n",
        "from keras.initializers import RandomNormal"
      ],
      "execution_count": null,
      "outputs": []
    },
    {
      "cell_type": "code",
      "metadata": {
        "id": "-NybfWDX5wrx"
      },
      "source": [
        "def vgg16_unet(input_shape):\n",
        "  inputs = Input(shape=input_shape)\n",
        "  vgg16 = VGG16(include_top=False,weights='imagenet',input_tensor=inputs)\n",
        "\n",
        "  # We will extract encoder layers based on their output shape from vgg16 model\n",
        "  s1 = vgg16.get_layer('block1_conv2').output  #512\n",
        "  s2 = vgg16.get_layer('block2_conv2').output  #256\n",
        "  s3 = vgg16.get_layer('block3_conv3').output  #128\n",
        "  s4 = vgg16.get_layer('block4_conv3').output  #64\n",
        "\n",
        "  # bottleneck/bridege layer from vgg16\n",
        "  b1 = vgg16.get_layer('block5_conv3').output #32\n",
        "\n",
        "  # Decoder Block \n",
        "  d1 = define_decoder(b1,s4,512)\n",
        "  d2 = define_decoder(d1,s3,256)\n",
        "  d3 = define_decoder(d2,s2,128)\n",
        "  d4 = define_decoder(d3,s1,64)\n",
        "\n",
        "  #output layer \n",
        "  outputs = Conv2D(1,1,padding='same',activation='sigmoid')(d4)\n",
        "\n",
        "  model = Model(inputs,outputs)\n",
        "\n",
        "  return model"
      ],
      "execution_count": null,
      "outputs": []
    },
    {
      "cell_type": "code",
      "metadata": {
        "colab": {
          "base_uri": "https://localhost:8080/"
        },
        "id": "BHBsL_0r5wuE",
        "outputId": "c302e715-61a1-4c2c-9f0b-050a15c48d6c"
      },
      "source": [
        "model = vgg16_unet((256,256,3))\n",
        "model.summary()"
      ],
      "execution_count": null,
      "outputs": [
        {
          "name": "stdout",
          "output_type": "stream",
          "text": [
            "Downloading data from https://storage.googleapis.com/tensorflow/keras-applications/vgg16/vgg16_weights_tf_dim_ordering_tf_kernels_notop.h5\n",
            "58892288/58889256 [==============================] - 1s 0us/step\n",
            "58900480/58889256 [==============================] - 1s 0us/step\n",
            "Model: \"model\"\n",
            "__________________________________________________________________________________________________\n",
            "Layer (type)                    Output Shape         Param #     Connected to                     \n",
            "==================================================================================================\n",
            "input_1 (InputLayer)            [(None, 256, 256, 3) 0                                            \n",
            "__________________________________________________________________________________________________\n",
            "block1_conv1 (Conv2D)           (None, 256, 256, 64) 1792        input_1[0][0]                    \n",
            "__________________________________________________________________________________________________\n",
            "block1_conv2 (Conv2D)           (None, 256, 256, 64) 36928       block1_conv1[0][0]               \n",
            "__________________________________________________________________________________________________\n",
            "block1_pool (MaxPooling2D)      (None, 128, 128, 64) 0           block1_conv2[0][0]               \n",
            "__________________________________________________________________________________________________\n",
            "block2_conv1 (Conv2D)           (None, 128, 128, 128 73856       block1_pool[0][0]                \n",
            "__________________________________________________________________________________________________\n",
            "block2_conv2 (Conv2D)           (None, 128, 128, 128 147584      block2_conv1[0][0]               \n",
            "__________________________________________________________________________________________________\n",
            "block2_pool (MaxPooling2D)      (None, 64, 64, 128)  0           block2_conv2[0][0]               \n",
            "__________________________________________________________________________________________________\n",
            "block3_conv1 (Conv2D)           (None, 64, 64, 256)  295168      block2_pool[0][0]                \n",
            "__________________________________________________________________________________________________\n",
            "block3_conv2 (Conv2D)           (None, 64, 64, 256)  590080      block3_conv1[0][0]               \n",
            "__________________________________________________________________________________________________\n",
            "block3_conv3 (Conv2D)           (None, 64, 64, 256)  590080      block3_conv2[0][0]               \n",
            "__________________________________________________________________________________________________\n",
            "block3_pool (MaxPooling2D)      (None, 32, 32, 256)  0           block3_conv3[0][0]               \n",
            "__________________________________________________________________________________________________\n",
            "block4_conv1 (Conv2D)           (None, 32, 32, 512)  1180160     block3_pool[0][0]                \n",
            "__________________________________________________________________________________________________\n",
            "block4_conv2 (Conv2D)           (None, 32, 32, 512)  2359808     block4_conv1[0][0]               \n",
            "__________________________________________________________________________________________________\n",
            "block4_conv3 (Conv2D)           (None, 32, 32, 512)  2359808     block4_conv2[0][0]               \n",
            "__________________________________________________________________________________________________\n",
            "block4_pool (MaxPooling2D)      (None, 16, 16, 512)  0           block4_conv3[0][0]               \n",
            "__________________________________________________________________________________________________\n",
            "block5_conv1 (Conv2D)           (None, 16, 16, 512)  2359808     block4_pool[0][0]                \n",
            "__________________________________________________________________________________________________\n",
            "block5_conv2 (Conv2D)           (None, 16, 16, 512)  2359808     block5_conv1[0][0]               \n",
            "__________________________________________________________________________________________________\n",
            "block5_conv3 (Conv2D)           (None, 16, 16, 512)  2359808     block5_conv2[0][0]               \n",
            "__________________________________________________________________________________________________\n",
            "conv2d_transpose (Conv2DTranspo (None, 32, 32, 512)  1049088     block5_conv3[0][0]               \n",
            "__________________________________________________________________________________________________\n",
            "concatenate (Concatenate)       (None, 32, 32, 1024) 0           conv2d_transpose[0][0]           \n",
            "                                                                 block4_conv3[0][0]               \n",
            "__________________________________________________________________________________________________\n",
            "conv2d (Conv2D)                 (None, 32, 32, 512)  4719104     concatenate[0][0]                \n",
            "__________________________________________________________________________________________________\n",
            "instance_normalization (Instanc (None, 32, 32, 512)  1024        conv2d[0][0]                     \n",
            "__________________________________________________________________________________________________\n",
            "activation (Activation)         (None, 32, 32, 512)  0           instance_normalization[0][0]     \n",
            "__________________________________________________________________________________________________\n",
            "conv2d_1 (Conv2D)               (None, 32, 32, 512)  2359808     activation[0][0]                 \n",
            "__________________________________________________________________________________________________\n",
            "instance_normalization_1 (Insta (None, 32, 32, 512)  1024        conv2d_1[0][0]                   \n",
            "__________________________________________________________________________________________________\n",
            "activation_1 (Activation)       (None, 32, 32, 512)  0           instance_normalization_1[0][0]   \n",
            "__________________________________________________________________________________________________\n",
            "conv2d_transpose_1 (Conv2DTrans (None, 64, 64, 256)  524544      activation_1[0][0]               \n",
            "__________________________________________________________________________________________________\n",
            "concatenate_1 (Concatenate)     (None, 64, 64, 512)  0           conv2d_transpose_1[0][0]         \n",
            "                                                                 block3_conv3[0][0]               \n",
            "__________________________________________________________________________________________________\n",
            "conv2d_2 (Conv2D)               (None, 64, 64, 256)  1179904     concatenate_1[0][0]              \n",
            "__________________________________________________________________________________________________\n",
            "instance_normalization_2 (Insta (None, 64, 64, 256)  512         conv2d_2[0][0]                   \n",
            "__________________________________________________________________________________________________\n",
            "activation_2 (Activation)       (None, 64, 64, 256)  0           instance_normalization_2[0][0]   \n",
            "__________________________________________________________________________________________________\n",
            "conv2d_3 (Conv2D)               (None, 64, 64, 256)  590080      activation_2[0][0]               \n",
            "__________________________________________________________________________________________________\n",
            "instance_normalization_3 (Insta (None, 64, 64, 256)  512         conv2d_3[0][0]                   \n",
            "__________________________________________________________________________________________________\n",
            "activation_3 (Activation)       (None, 64, 64, 256)  0           instance_normalization_3[0][0]   \n",
            "__________________________________________________________________________________________________\n",
            "conv2d_transpose_2 (Conv2DTrans (None, 128, 128, 128 131200      activation_3[0][0]               \n",
            "__________________________________________________________________________________________________\n",
            "concatenate_2 (Concatenate)     (None, 128, 128, 256 0           conv2d_transpose_2[0][0]         \n",
            "                                                                 block2_conv2[0][0]               \n",
            "__________________________________________________________________________________________________\n",
            "conv2d_4 (Conv2D)               (None, 128, 128, 128 295040      concatenate_2[0][0]              \n",
            "__________________________________________________________________________________________________\n",
            "instance_normalization_4 (Insta (None, 128, 128, 128 256         conv2d_4[0][0]                   \n",
            "__________________________________________________________________________________________________\n",
            "activation_4 (Activation)       (None, 128, 128, 128 0           instance_normalization_4[0][0]   \n",
            "__________________________________________________________________________________________________\n",
            "conv2d_5 (Conv2D)               (None, 128, 128, 128 147584      activation_4[0][0]               \n",
            "__________________________________________________________________________________________________\n",
            "instance_normalization_5 (Insta (None, 128, 128, 128 256         conv2d_5[0][0]                   \n",
            "__________________________________________________________________________________________________\n",
            "activation_5 (Activation)       (None, 128, 128, 128 0           instance_normalization_5[0][0]   \n",
            "__________________________________________________________________________________________________\n",
            "conv2d_transpose_3 (Conv2DTrans (None, 256, 256, 64) 32832       activation_5[0][0]               \n",
            "__________________________________________________________________________________________________\n",
            "concatenate_3 (Concatenate)     (None, 256, 256, 128 0           conv2d_transpose_3[0][0]         \n",
            "                                                                 block1_conv2[0][0]               \n",
            "__________________________________________________________________________________________________\n",
            "conv2d_6 (Conv2D)               (None, 256, 256, 64) 73792       concatenate_3[0][0]              \n",
            "__________________________________________________________________________________________________\n",
            "instance_normalization_6 (Insta (None, 256, 256, 64) 128         conv2d_6[0][0]                   \n",
            "__________________________________________________________________________________________________\n",
            "activation_6 (Activation)       (None, 256, 256, 64) 0           instance_normalization_6[0][0]   \n",
            "__________________________________________________________________________________________________\n",
            "conv2d_7 (Conv2D)               (None, 256, 256, 64) 36928       activation_6[0][0]               \n",
            "__________________________________________________________________________________________________\n",
            "instance_normalization_7 (Insta (None, 256, 256, 64) 128         conv2d_7[0][0]                   \n",
            "__________________________________________________________________________________________________\n",
            "activation_7 (Activation)       (None, 256, 256, 64) 0           instance_normalization_7[0][0]   \n",
            "__________________________________________________________________________________________________\n",
            "conv2d_8 (Conv2D)               (None, 256, 256, 1)  65          activation_7[0][0]               \n",
            "==================================================================================================\n",
            "Total params: 25,858,497\n",
            "Trainable params: 25,858,497\n",
            "Non-trainable params: 0\n",
            "__________________________________________________________________________________________________\n"
          ]
        }
      ]
    },
    {
      "cell_type": "code",
      "metadata": {
        "id": "XL8BwgHb5uD_"
      },
      "source": [
        "model.compile(loss=dice_loss,optimizer=Adam(lr),metrics=[dice_coef,iou,Recall(),Precision()])"
      ],
      "execution_count": null,
      "outputs": []
    },
    {
      "cell_type": "code",
      "metadata": {
        "colab": {
          "base_uri": "https://localhost:8080/",
          "height": 598
        },
        "id": "KzCZtmOR5uGp",
        "outputId": "089892f0-7cbf-4952-f673-9477b2ac1468"
      },
      "source": [
        "model.fit(\n",
        "        train_dataset,\n",
        "        epochs=150,\n",
        "        validation_data=valid_dataset,\n",
        "        steps_per_epoch=train_steps,\n",
        "        validation_steps=test_steps)"
      ],
      "execution_count": null,
      "outputs": [
        {
          "name": "stdout",
          "output_type": "stream",
          "text": [
            "Epoch 1/150\n",
            "201/201 [==============================] - 436s 2s/step - loss: 0.4797 - dice_coef: 0.5203 - iou: 0.3769 - recall: 0.7151 - precision: 0.6549 - val_loss: 0.2923 - val_dice_coef: 0.7077 - val_iou: 0.5712 - val_recall: 0.7317 - val_precision: 0.8030\n",
            "Epoch 2/150\n",
            "201/201 [==============================] - 117s 583ms/step - loss: 0.2673 - dice_coef: 0.7327 - iou: 0.5955 - recall: 0.7264 - precision: 0.8233 - val_loss: 0.2178 - val_dice_coef: 0.7822 - val_iou: 0.6586 - val_recall: 0.7159 - val_precision: 0.8540\n",
            "Epoch 3/150\n",
            "201/201 [==============================] - 117s 581ms/step - loss: 0.2088 - dice_coef: 0.7912 - iou: 0.6675 - recall: 0.7138 - precision: 0.8631 - val_loss: 0.1807 - val_dice_coef: 0.8193 - val_iou: 0.7059 - val_recall: 0.7091 - val_precision: 0.8776\n",
            "Epoch 4/150\n",
            "201/201 [==============================] - 117s 580ms/step - loss: 0.1755 - dice_coef: 0.8245 - iou: 0.7114 - recall: 0.7079 - precision: 0.8826 - val_loss: 0.1628 - val_dice_coef: 0.8372 - val_iou: 0.7287 - val_recall: 0.7053 - val_precision: 0.8913\n",
            "Epoch 5/150\n",
            "201/201 [==============================] - 117s 580ms/step - loss: 0.1524 - dice_coef: 0.8476 - iou: 0.7435 - recall: 0.7048 - precision: 0.8943 - val_loss: 0.1366 - val_dice_coef: 0.8634 - val_iou: 0.7665 - val_recall: 0.7027 - val_precision: 0.9007\n",
            "Epoch 6/150\n",
            "201/201 [==============================] - 117s 581ms/step - loss: 0.1370 - dice_coef: 0.8630 - iou: 0.7657 - recall: 0.7021 - precision: 0.9031 - val_loss: 0.1238 - val_dice_coef: 0.8762 - val_iou: 0.7851 - val_recall: 0.7007 - val_precision: 0.9079\n",
            "Epoch 7/150\n",
            " 36/201 [====>.........................] - ETA: 1:25 - loss: 0.1265 - dice_coef: 0.8735 - iou: 0.7793 - recall: 0.7008 - precision: 0.9090"
          ]
        },
        {
          "ename": "KeyboardInterrupt",
          "evalue": "ignored",
          "output_type": "error",
          "traceback": [
            "\u001b[0;31m---------------------------------------------------------------------------\u001b[0m",
            "\u001b[0;31mKeyboardInterrupt\u001b[0m                         Traceback (most recent call last)",
            "\u001b[0;32m<ipython-input-32-702c300309b3>\u001b[0m in \u001b[0;36m<module>\u001b[0;34m()\u001b[0m\n\u001b[1;32m      4\u001b[0m         \u001b[0mvalidation_data\u001b[0m\u001b[0;34m=\u001b[0m\u001b[0mvalid_dataset\u001b[0m\u001b[0;34m,\u001b[0m\u001b[0;34m\u001b[0m\u001b[0;34m\u001b[0m\u001b[0m\n\u001b[1;32m      5\u001b[0m         \u001b[0msteps_per_epoch\u001b[0m\u001b[0;34m=\u001b[0m\u001b[0mtrain_steps\u001b[0m\u001b[0;34m,\u001b[0m\u001b[0;34m\u001b[0m\u001b[0;34m\u001b[0m\u001b[0m\n\u001b[0;32m----> 6\u001b[0;31m         validation_steps=test_steps)\n\u001b[0m",
            "\u001b[0;32m/usr/local/lib/python3.7/dist-packages/keras/engine/training.py\u001b[0m in \u001b[0;36mfit\u001b[0;34m(self, x, y, batch_size, epochs, verbose, callbacks, validation_split, validation_data, shuffle, class_weight, sample_weight, initial_epoch, steps_per_epoch, validation_steps, validation_batch_size, validation_freq, max_queue_size, workers, use_multiprocessing)\u001b[0m\n\u001b[1;32m   1156\u001b[0m                 _r=1):\n\u001b[1;32m   1157\u001b[0m               \u001b[0mcallbacks\u001b[0m\u001b[0;34m.\u001b[0m\u001b[0mon_train_batch_begin\u001b[0m\u001b[0;34m(\u001b[0m\u001b[0mstep\u001b[0m\u001b[0;34m)\u001b[0m\u001b[0;34m\u001b[0m\u001b[0;34m\u001b[0m\u001b[0m\n\u001b[0;32m-> 1158\u001b[0;31m               \u001b[0mtmp_logs\u001b[0m \u001b[0;34m=\u001b[0m \u001b[0mself\u001b[0m\u001b[0;34m.\u001b[0m\u001b[0mtrain_function\u001b[0m\u001b[0;34m(\u001b[0m\u001b[0miterator\u001b[0m\u001b[0;34m)\u001b[0m\u001b[0;34m\u001b[0m\u001b[0;34m\u001b[0m\u001b[0m\n\u001b[0m\u001b[1;32m   1159\u001b[0m               \u001b[0;32mif\u001b[0m \u001b[0mdata_handler\u001b[0m\u001b[0;34m.\u001b[0m\u001b[0mshould_sync\u001b[0m\u001b[0;34m:\u001b[0m\u001b[0;34m\u001b[0m\u001b[0;34m\u001b[0m\u001b[0m\n\u001b[1;32m   1160\u001b[0m                 \u001b[0mcontext\u001b[0m\u001b[0;34m.\u001b[0m\u001b[0masync_wait\u001b[0m\u001b[0;34m(\u001b[0m\u001b[0;34m)\u001b[0m\u001b[0;34m\u001b[0m\u001b[0;34m\u001b[0m\u001b[0m\n",
            "\u001b[0;32m/usr/local/lib/python3.7/dist-packages/tensorflow/python/eager/def_function.py\u001b[0m in \u001b[0;36m__call__\u001b[0;34m(self, *args, **kwds)\u001b[0m\n\u001b[1;32m    887\u001b[0m \u001b[0;34m\u001b[0m\u001b[0m\n\u001b[1;32m    888\u001b[0m       \u001b[0;32mwith\u001b[0m \u001b[0mOptionalXlaContext\u001b[0m\u001b[0;34m(\u001b[0m\u001b[0mself\u001b[0m\u001b[0;34m.\u001b[0m\u001b[0m_jit_compile\u001b[0m\u001b[0;34m)\u001b[0m\u001b[0;34m:\u001b[0m\u001b[0;34m\u001b[0m\u001b[0;34m\u001b[0m\u001b[0m\n\u001b[0;32m--> 889\u001b[0;31m         \u001b[0mresult\u001b[0m \u001b[0;34m=\u001b[0m \u001b[0mself\u001b[0m\u001b[0;34m.\u001b[0m\u001b[0m_call\u001b[0m\u001b[0;34m(\u001b[0m\u001b[0;34m*\u001b[0m\u001b[0margs\u001b[0m\u001b[0;34m,\u001b[0m \u001b[0;34m**\u001b[0m\u001b[0mkwds\u001b[0m\u001b[0;34m)\u001b[0m\u001b[0;34m\u001b[0m\u001b[0;34m\u001b[0m\u001b[0m\n\u001b[0m\u001b[1;32m    890\u001b[0m \u001b[0;34m\u001b[0m\u001b[0m\n\u001b[1;32m    891\u001b[0m       \u001b[0mnew_tracing_count\u001b[0m \u001b[0;34m=\u001b[0m \u001b[0mself\u001b[0m\u001b[0;34m.\u001b[0m\u001b[0mexperimental_get_tracing_count\u001b[0m\u001b[0;34m(\u001b[0m\u001b[0;34m)\u001b[0m\u001b[0;34m\u001b[0m\u001b[0;34m\u001b[0m\u001b[0m\n",
            "\u001b[0;32m/usr/local/lib/python3.7/dist-packages/tensorflow/python/eager/def_function.py\u001b[0m in \u001b[0;36m_call\u001b[0;34m(self, *args, **kwds)\u001b[0m\n\u001b[1;32m    915\u001b[0m       \u001b[0;31m# In this case we have created variables on the first call, so we run the\u001b[0m\u001b[0;34m\u001b[0m\u001b[0;34m\u001b[0m\u001b[0;34m\u001b[0m\u001b[0m\n\u001b[1;32m    916\u001b[0m       \u001b[0;31m# defunned version which is guaranteed to never create variables.\u001b[0m\u001b[0;34m\u001b[0m\u001b[0;34m\u001b[0m\u001b[0;34m\u001b[0m\u001b[0m\n\u001b[0;32m--> 917\u001b[0;31m       \u001b[0;32mreturn\u001b[0m \u001b[0mself\u001b[0m\u001b[0;34m.\u001b[0m\u001b[0m_stateless_fn\u001b[0m\u001b[0;34m(\u001b[0m\u001b[0;34m*\u001b[0m\u001b[0margs\u001b[0m\u001b[0;34m,\u001b[0m \u001b[0;34m**\u001b[0m\u001b[0mkwds\u001b[0m\u001b[0;34m)\u001b[0m  \u001b[0;31m# pylint: disable=not-callable\u001b[0m\u001b[0;34m\u001b[0m\u001b[0;34m\u001b[0m\u001b[0m\n\u001b[0m\u001b[1;32m    918\u001b[0m     \u001b[0;32melif\u001b[0m \u001b[0mself\u001b[0m\u001b[0;34m.\u001b[0m\u001b[0m_stateful_fn\u001b[0m \u001b[0;32mis\u001b[0m \u001b[0;32mnot\u001b[0m \u001b[0;32mNone\u001b[0m\u001b[0;34m:\u001b[0m\u001b[0;34m\u001b[0m\u001b[0;34m\u001b[0m\u001b[0m\n\u001b[1;32m    919\u001b[0m       \u001b[0;31m# Release the lock early so that multiple threads can perform the call\u001b[0m\u001b[0;34m\u001b[0m\u001b[0;34m\u001b[0m\u001b[0;34m\u001b[0m\u001b[0m\n",
            "\u001b[0;32m/usr/local/lib/python3.7/dist-packages/tensorflow/python/eager/function.py\u001b[0m in \u001b[0;36m__call__\u001b[0;34m(self, *args, **kwargs)\u001b[0m\n\u001b[1;32m   3022\u001b[0m        filtered_flat_args) = self._maybe_define_function(args, kwargs)\n\u001b[1;32m   3023\u001b[0m     return graph_function._call_flat(\n\u001b[0;32m-> 3024\u001b[0;31m         filtered_flat_args, captured_inputs=graph_function.captured_inputs)  # pylint: disable=protected-access\n\u001b[0m\u001b[1;32m   3025\u001b[0m \u001b[0;34m\u001b[0m\u001b[0m\n\u001b[1;32m   3026\u001b[0m   \u001b[0;34m@\u001b[0m\u001b[0mproperty\u001b[0m\u001b[0;34m\u001b[0m\u001b[0;34m\u001b[0m\u001b[0m\n",
            "\u001b[0;32m/usr/local/lib/python3.7/dist-packages/tensorflow/python/eager/function.py\u001b[0m in \u001b[0;36m_call_flat\u001b[0;34m(self, args, captured_inputs, cancellation_manager)\u001b[0m\n\u001b[1;32m   1959\u001b[0m       \u001b[0;31m# No tape is watching; skip to running the function.\u001b[0m\u001b[0;34m\u001b[0m\u001b[0;34m\u001b[0m\u001b[0;34m\u001b[0m\u001b[0m\n\u001b[1;32m   1960\u001b[0m       return self._build_call_outputs(self._inference_function.call(\n\u001b[0;32m-> 1961\u001b[0;31m           ctx, args, cancellation_manager=cancellation_manager))\n\u001b[0m\u001b[1;32m   1962\u001b[0m     forward_backward = self._select_forward_and_backward_functions(\n\u001b[1;32m   1963\u001b[0m         \u001b[0margs\u001b[0m\u001b[0;34m,\u001b[0m\u001b[0;34m\u001b[0m\u001b[0;34m\u001b[0m\u001b[0m\n",
            "\u001b[0;32m/usr/local/lib/python3.7/dist-packages/tensorflow/python/eager/function.py\u001b[0m in \u001b[0;36mcall\u001b[0;34m(self, ctx, args, cancellation_manager)\u001b[0m\n\u001b[1;32m    594\u001b[0m               \u001b[0minputs\u001b[0m\u001b[0;34m=\u001b[0m\u001b[0margs\u001b[0m\u001b[0;34m,\u001b[0m\u001b[0;34m\u001b[0m\u001b[0;34m\u001b[0m\u001b[0m\n\u001b[1;32m    595\u001b[0m               \u001b[0mattrs\u001b[0m\u001b[0;34m=\u001b[0m\u001b[0mattrs\u001b[0m\u001b[0;34m,\u001b[0m\u001b[0;34m\u001b[0m\u001b[0;34m\u001b[0m\u001b[0m\n\u001b[0;32m--> 596\u001b[0;31m               ctx=ctx)\n\u001b[0m\u001b[1;32m    597\u001b[0m         \u001b[0;32melse\u001b[0m\u001b[0;34m:\u001b[0m\u001b[0;34m\u001b[0m\u001b[0;34m\u001b[0m\u001b[0m\n\u001b[1;32m    598\u001b[0m           outputs = execute.execute_with_cancellation(\n",
            "\u001b[0;32m/usr/local/lib/python3.7/dist-packages/tensorflow/python/eager/execute.py\u001b[0m in \u001b[0;36mquick_execute\u001b[0;34m(op_name, num_outputs, inputs, attrs, ctx, name)\u001b[0m\n\u001b[1;32m     58\u001b[0m     \u001b[0mctx\u001b[0m\u001b[0;34m.\u001b[0m\u001b[0mensure_initialized\u001b[0m\u001b[0;34m(\u001b[0m\u001b[0;34m)\u001b[0m\u001b[0;34m\u001b[0m\u001b[0;34m\u001b[0m\u001b[0m\n\u001b[1;32m     59\u001b[0m     tensors = pywrap_tfe.TFE_Py_Execute(ctx._handle, device_name, op_name,\n\u001b[0;32m---> 60\u001b[0;31m                                         inputs, attrs, num_outputs)\n\u001b[0m\u001b[1;32m     61\u001b[0m   \u001b[0;32mexcept\u001b[0m \u001b[0mcore\u001b[0m\u001b[0;34m.\u001b[0m\u001b[0m_NotOkStatusException\u001b[0m \u001b[0;32mas\u001b[0m \u001b[0me\u001b[0m\u001b[0;34m:\u001b[0m\u001b[0;34m\u001b[0m\u001b[0;34m\u001b[0m\u001b[0m\n\u001b[1;32m     62\u001b[0m     \u001b[0;32mif\u001b[0m \u001b[0mname\u001b[0m \u001b[0;32mis\u001b[0m \u001b[0;32mnot\u001b[0m \u001b[0;32mNone\u001b[0m\u001b[0;34m:\u001b[0m\u001b[0;34m\u001b[0m\u001b[0;34m\u001b[0m\u001b[0m\n",
            "\u001b[0;31mKeyboardInterrupt\u001b[0m: "
          ]
        }
      ]
    },
    {
      "cell_type": "code",
      "metadata": {
        "colab": {
          "base_uri": "https://localhost:8080/"
        },
        "id": "wWe9zNEQ-rrw",
        "outputId": "8d7b82fa-0b4b-4b5b-c085-c5fb16f52610"
      },
      "source": [
        "model.fit(\n",
        "        train_dataset,\n",
        "        epochs=20,\n",
        "        validation_data=valid_dataset,\n",
        "        steps_per_epoch=train_steps,\n",
        "        validation_steps=test_steps)"
      ],
      "execution_count": null,
      "outputs": [
        {
          "name": "stdout",
          "output_type": "stream",
          "text": [
            "Epoch 1/20\n",
            "201/201 [==============================] - 117s 581ms/step - loss: 0.1178 - dice_coef: 0.8822 - iou: 0.7950 - recall: 0.6991 - precision: 0.9116 - val_loss: 0.1174 - val_dice_coef: 0.8826 - val_iou: 0.7945 - val_recall: 0.6986 - val_precision: 0.9141\n",
            "Epoch 2/20\n",
            "201/201 [==============================] - 117s 581ms/step - loss: 0.1110 - dice_coef: 0.8890 - iou: 0.8052 - recall: 0.6980 - precision: 0.9161 - val_loss: 0.1149 - val_dice_coef: 0.8851 - val_iou: 0.7984 - val_recall: 0.6978 - val_precision: 0.9180\n",
            "Epoch 3/20\n",
            "201/201 [==============================] - 117s 580ms/step - loss: 0.1049 - dice_coef: 0.8951 - iou: 0.8148 - recall: 0.6974 - precision: 0.9195 - val_loss: 0.1037 - val_dice_coef: 0.8963 - val_iou: 0.8157 - val_recall: 0.6970 - val_precision: 0.9213\n",
            "Epoch 4/20\n",
            "201/201 [==============================] - 116s 580ms/step - loss: 0.1000 - dice_coef: 0.9000 - iou: 0.8226 - recall: 0.6964 - precision: 0.9228 - val_loss: 0.0986 - val_dice_coef: 0.9014 - val_iou: 0.8238 - val_recall: 0.6961 - val_precision: 0.9244\n",
            "Epoch 5/20\n",
            "201/201 [==============================] - 117s 580ms/step - loss: 0.0958 - dice_coef: 0.9042 - iou: 0.8293 - recall: 0.6957 - precision: 0.9257 - val_loss: 0.0971 - val_dice_coef: 0.9029 - val_iou: 0.8261 - val_recall: 0.6954 - val_precision: 0.9270\n",
            "Epoch 6/20\n",
            "201/201 [==============================] - 116s 579ms/step - loss: 0.0979 - dice_coef: 0.9021 - iou: 0.8260 - recall: 0.6951 - precision: 0.9281 - val_loss: 0.1035 - val_dice_coef: 0.8965 - val_iou: 0.8159 - val_recall: 0.6948 - val_precision: 0.9289\n",
            "Epoch 7/20\n",
            "201/201 [==============================] - 117s 580ms/step - loss: 0.0953 - dice_coef: 0.9047 - iou: 0.8302 - recall: 0.6945 - precision: 0.9296 - val_loss: 0.0939 - val_dice_coef: 0.9061 - val_iou: 0.8313 - val_recall: 0.6943 - val_precision: 0.9305\n",
            "Epoch 8/20\n",
            "201/201 [==============================] - 117s 580ms/step - loss: 0.0909 - dice_coef: 0.9091 - iou: 0.8374 - recall: 0.6940 - precision: 0.9313 - val_loss: 0.0930 - val_dice_coef: 0.9070 - val_iou: 0.8328 - val_recall: 0.6939 - val_precision: 0.9321\n",
            "Epoch 9/20\n",
            "201/201 [==============================] - 116s 578ms/step - loss: 0.0874 - dice_coef: 0.9126 - iou: 0.8430 - recall: 0.6937 - precision: 0.9329 - val_loss: 0.0905 - val_dice_coef: 0.9095 - val_iou: 0.8369 - val_recall: 0.6936 - val_precision: 0.9336\n",
            "Epoch 10/20\n",
            "201/201 [==============================] - 117s 579ms/step - loss: 0.0853 - dice_coef: 0.9147 - iou: 0.8466 - recall: 0.6935 - precision: 0.9343 - val_loss: 0.0918 - val_dice_coef: 0.9082 - val_iou: 0.8347 - val_recall: 0.6934 - val_precision: 0.9350\n",
            "Epoch 11/20\n",
            "201/201 [==============================] - 117s 580ms/step - loss: 0.0841 - dice_coef: 0.9159 - iou: 0.8486 - recall: 0.6933 - precision: 0.9355 - val_loss: 0.0900 - val_dice_coef: 0.9100 - val_iou: 0.8379 - val_recall: 0.6933 - val_precision: 0.9361\n",
            "Epoch 12/20\n",
            "201/201 [==============================] - 116s 579ms/step - loss: 0.0854 - dice_coef: 0.9146 - iou: 0.8465 - recall: 0.6931 - precision: 0.9367 - val_loss: 0.0946 - val_dice_coef: 0.9054 - val_iou: 0.8302 - val_recall: 0.6932 - val_precision: 0.9371\n",
            "Epoch 13/20\n",
            "201/201 [==============================] - 117s 580ms/step - loss: 0.0841 - dice_coef: 0.9159 - iou: 0.8485 - recall: 0.6931 - precision: 0.9374 - val_loss: 0.0875 - val_dice_coef: 0.9125 - val_iou: 0.8418 - val_recall: 0.6931 - val_precision: 0.9380\n",
            "Epoch 14/20\n",
            "201/201 [==============================] - 116s 578ms/step - loss: 0.0820 - dice_coef: 0.9180 - iou: 0.8521 - recall: 0.6929 - precision: 0.9384 - val_loss: 0.0869 - val_dice_coef: 0.9131 - val_iou: 0.8429 - val_recall: 0.6929 - val_precision: 0.9389\n",
            "Epoch 15/20\n",
            "201/201 [==============================] - 116s 579ms/step - loss: 0.0798 - dice_coef: 0.9202 - iou: 0.8558 - recall: 0.6928 - precision: 0.9393 - val_loss: 0.0871 - val_dice_coef: 0.9129 - val_iou: 0.8424 - val_recall: 0.6928 - val_precision: 0.9398\n",
            "Epoch 16/20\n",
            "201/201 [==============================] - 116s 578ms/step - loss: 0.0781 - dice_coef: 0.9219 - iou: 0.8586 - recall: 0.6928 - precision: 0.9402 - val_loss: 0.0866 - val_dice_coef: 0.9134 - val_iou: 0.8433 - val_recall: 0.6928 - val_precision: 0.9406\n",
            "Epoch 17/20\n",
            "201/201 [==============================] - 116s 578ms/step - loss: 0.0770 - dice_coef: 0.9230 - iou: 0.8605 - recall: 0.6927 - precision: 0.9409 - val_loss: 0.0857 - val_dice_coef: 0.9143 - val_iou: 0.8448 - val_recall: 0.6928 - val_precision: 0.9413\n",
            "Epoch 18/20\n",
            "201/201 [==============================] - 116s 578ms/step - loss: 0.0764 - dice_coef: 0.9236 - iou: 0.8615 - recall: 0.6928 - precision: 0.9417 - val_loss: 0.0866 - val_dice_coef: 0.9134 - val_iou: 0.8433 - val_recall: 0.6929 - val_precision: 0.9420\n",
            "Epoch 19/20\n",
            "201/201 [==============================] - 116s 578ms/step - loss: 0.0760 - dice_coef: 0.9240 - iou: 0.8621 - recall: 0.6928 - precision: 0.9423 - val_loss: 0.0853 - val_dice_coef: 0.9147 - val_iou: 0.8455 - val_recall: 0.6929 - val_precision: 0.9427\n",
            "Epoch 20/20\n",
            "201/201 [==============================] - 116s 578ms/step - loss: 0.0745 - dice_coef: 0.9255 - iou: 0.8647 - recall: 0.6929 - precision: 0.9430 - val_loss: 0.0849 - val_dice_coef: 0.9151 - val_iou: 0.8462 - val_recall: 0.6929 - val_precision: 0.9433\n"
          ]
        },
        {
          "data": {
            "text/plain": [
              "<keras.callbacks.History at 0x7fba741f8490>"
            ]
          },
          "execution_count": 33,
          "metadata": {
            "tags": []
          },
          "output_type": "execute_result"
        }
      ]
    },
    {
      "cell_type": "code",
      "metadata": {
        "colab": {
          "background_save": true,
          "base_uri": "https://localhost:8080/"
        },
        "id": "ecWwsLp9HcNA",
        "outputId": "e8cb4363-f589-4174-d206-5a507687bc16"
      },
      "source": [
        "model.fit(\n",
        "        train_dataset,\n",
        "        epochs=25,\n",
        "        validation_data=valid_dataset,\n",
        "        steps_per_epoch=train_steps,\n",
        "        validation_steps=test_steps)"
      ],
      "execution_count": null,
      "outputs": [
        {
          "name": "stdout",
          "output_type": "stream",
          "text": [
            "Epoch 1/25\n",
            "201/201 [==============================] - 116s 577ms/step - loss: 0.0774 - dice_coef: 0.9226 - iou: 0.8597 - recall: 0.6929 - precision: 0.9435 - val_loss: 0.0859 - val_dice_coef: 0.9141 - val_iou: 0.8445 - val_recall: 0.6929 - val_precision: 0.9438\n",
            "Epoch 2/25\n",
            "201/201 [==============================] - 116s 577ms/step - loss: 0.0742 - dice_coef: 0.9258 - iou: 0.8652 - recall: 0.6929 - precision: 0.9440 - val_loss: 0.0873 - val_dice_coef: 0.9127 - val_iou: 0.8423 - val_recall: 0.6930 - val_precision: 0.9443\n",
            "Epoch 3/25\n",
            "201/201 [==============================] - 116s 578ms/step - loss: 0.0737 - dice_coef: 0.9263 - iou: 0.8661 - recall: 0.6930 - precision: 0.9445 - val_loss: 0.0849 - val_dice_coef: 0.9151 - val_iou: 0.8463 - val_recall: 0.6931 - val_precision: 0.9448\n",
            "Epoch 4/25\n",
            "201/201 [==============================] - 116s 579ms/step - loss: 0.0726 - dice_coef: 0.9274 - iou: 0.8680 - recall: 0.6931 - precision: 0.9450 - val_loss: 0.0870 - val_dice_coef: 0.9130 - val_iou: 0.8426 - val_recall: 0.6931 - val_precision: 0.9453\n",
            "Epoch 5/25\n",
            "201/201 [==============================] - 116s 578ms/step - loss: 0.0732 - dice_coef: 0.9268 - iou: 0.8669 - recall: 0.6931 - precision: 0.9455 - val_loss: 0.0851 - val_dice_coef: 0.9149 - val_iou: 0.8459 - val_recall: 0.6931 - val_precision: 0.9457\n",
            "Epoch 6/25\n",
            "201/201 [==============================] - 116s 578ms/step - loss: 0.0717 - dice_coef: 0.9283 - iou: 0.8695 - recall: 0.6931 - precision: 0.9459 - val_loss: 0.0858 - val_dice_coef: 0.9142 - val_iou: 0.8448 - val_recall: 0.6932 - val_precision: 0.9461\n",
            "Epoch 7/25\n",
            "201/201 [==============================] - 116s 577ms/step - loss: 0.0707 - dice_coef: 0.9293 - iou: 0.8712 - recall: 0.6932 - precision: 0.9463 - val_loss: 0.0915 - val_dice_coef: 0.9085 - val_iou: 0.8369 - val_recall: 0.6933 - val_precision: 0.9465\n",
            "Epoch 8/25\n",
            "201/201 [==============================] - 116s 578ms/step - loss: 0.0697 - dice_coef: 0.9303 - iou: 0.8729 - recall: 0.6933 - precision: 0.9467 - val_loss: 0.0877 - val_dice_coef: 0.9123 - val_iou: 0.8419 - val_recall: 0.6934 - val_precision: 0.9469\n",
            "Epoch 9/25\n",
            "201/201 [==============================] - 116s 577ms/step - loss: 0.0696 - dice_coef: 0.9304 - iou: 0.8730 - recall: 0.6934 - precision: 0.9470 - val_loss: 0.0924 - val_dice_coef: 0.9076 - val_iou: 0.8357 - val_recall: 0.6935 - val_precision: 0.9472\n",
            "Epoch 10/25\n",
            "201/201 [==============================] - 116s 578ms/step - loss: 0.0703 - dice_coef: 0.9297 - iou: 0.8719 - recall: 0.6936 - precision: 0.9473 - val_loss: 0.0878 - val_dice_coef: 0.9122 - val_iou: 0.8417 - val_recall: 0.6937 - val_precision: 0.9475\n",
            "Epoch 11/25\n",
            "201/201 [==============================] - 116s 578ms/step - loss: 0.0689 - dice_coef: 0.9311 - iou: 0.8743 - recall: 0.6937 - precision: 0.9476 - val_loss: 0.0875 - val_dice_coef: 0.9125 - val_iou: 0.8423 - val_recall: 0.6938 - val_precision: 0.9478\n",
            "Epoch 12/25\n",
            "201/201 [==============================] - 116s 580ms/step - loss: 0.0685 - dice_coef: 0.9315 - iou: 0.8749 - recall: 0.6938 - precision: 0.9479 - val_loss: 0.0886 - val_dice_coef: 0.9114 - val_iou: 0.8405 - val_recall: 0.6939 - val_precision: 0.9481\n",
            "Epoch 13/25\n",
            "201/201 [==============================] - 117s 580ms/step - loss: 0.0683 - dice_coef: 0.9317 - iou: 0.8754 - recall: 0.6939 - precision: 0.9482 - val_loss: 0.0898 - val_dice_coef: 0.9102 - val_iou: 0.8388 - val_recall: 0.6940 - val_precision: 0.9484\n",
            "Epoch 14/25\n",
            "201/201 [==============================] - 116s 579ms/step - loss: 0.0665 - dice_coef: 0.9335 - iou: 0.8783 - recall: 0.6940 - precision: 0.9485 - val_loss: 0.0893 - val_dice_coef: 0.9107 - val_iou: 0.8393 - val_recall: 0.6941 - val_precision: 0.9487\n",
            "Epoch 15/25\n",
            "201/201 [==============================] - 117s 579ms/step - loss: 0.0666 - dice_coef: 0.9334 - iou: 0.8783 - recall: 0.6942 - precision: 0.9488 - val_loss: 0.0853 - val_dice_coef: 0.9147 - val_iou: 0.8458 - val_recall: 0.6943 - val_precision: 0.9489\n",
            "Epoch 16/25\n",
            "201/201 [==============================] - 116s 579ms/step - loss: 0.0664 - dice_coef: 0.9336 - iou: 0.8784 - recall: 0.6943 - precision: 0.9491 - val_loss: 0.0820 - val_dice_coef: 0.9180 - val_iou: 0.8509 - val_recall: 0.6943 - val_precision: 0.9493\n",
            "Epoch 17/25\n",
            "201/201 [==============================] - 116s 579ms/step - loss: 0.0675 - dice_coef: 0.9325 - iou: 0.8767 - recall: 0.6943 - precision: 0.9494 - val_loss: 0.0877 - val_dice_coef: 0.9123 - val_iou: 0.8422 - val_recall: 0.6944 - val_precision: 0.9495\n",
            "Epoch 18/25\n",
            "201/201 [==============================] - 116s 579ms/step - loss: 0.0676 - dice_coef: 0.9324 - iou: 0.8765 - recall: 0.6944 - precision: 0.9496 - val_loss: 0.0894 - val_dice_coef: 0.9106 - val_iou: 0.8396 - val_recall: 0.6944 - val_precision: 0.9498\n",
            "Epoch 19/25\n",
            "201/201 [==============================] - 116s 579ms/step - loss: 0.0653 - dice_coef: 0.9347 - iou: 0.8804 - recall: 0.6945 - precision: 0.9499 - val_loss: 0.0892 - val_dice_coef: 0.9108 - val_iou: 0.8399 - val_recall: 0.6945 - val_precision: 0.9500\n",
            "Epoch 20/25\n",
            "201/201 [==============================] - 116s 580ms/step - loss: 0.0631 - dice_coef: 0.9369 - iou: 0.8842 - recall: 0.6946 - precision: 0.9501 - val_loss: 0.0879 - val_dice_coef: 0.9121 - val_iou: 0.8419 - val_recall: 0.6947 - val_precision: 0.9503\n",
            "Epoch 21/25\n",
            "201/201 [==============================] - 116s 579ms/step - loss: 0.0631 - dice_coef: 0.9369 - iou: 0.8841 - recall: 0.6947 - precision: 0.9504 - val_loss: 0.0843 - val_dice_coef: 0.9157 - val_iou: 0.8473 - val_recall: 0.6947 - val_precision: 0.9505\n",
            "Epoch 22/25\n",
            "201/201 [==============================] - 116s 578ms/step - loss: 0.0622 - dice_coef: 0.9378 - iou: 0.8858 - recall: 0.6947 - precision: 0.9507 - val_loss: 0.0825 - val_dice_coef: 0.9175 - val_iou: 0.8503 - val_recall: 0.6948 - val_precision: 0.9508\n",
            "Epoch 23/25\n",
            "201/201 [==============================] - 116s 578ms/step - loss: 0.0631 - dice_coef: 0.9369 - iou: 0.8842 - recall: 0.6948 - precision: 0.9510 - val_loss: 0.0883 - val_dice_coef: 0.9117 - val_iou: 0.8415 - val_recall: 0.6949 - val_precision: 0.9511\n",
            "Epoch 24/25\n",
            "201/201 [==============================] - 116s 578ms/step - loss: 0.0631 - dice_coef: 0.9369 - iou: 0.8842 - recall: 0.6949 - precision: 0.9512 - val_loss: 0.0869 - val_dice_coef: 0.9131 - val_iou: 0.8435 - val_recall: 0.6950 - val_precision: 0.9513\n",
            "Epoch 25/25\n",
            "201/201 [==============================] - 116s 578ms/step - loss: 0.0628 - dice_coef: 0.9372 - iou: 0.8847 - recall: 0.6950 - precision: 0.9514 - val_loss: 0.0868 - val_dice_coef: 0.9132 - val_iou: 0.8434 - val_recall: 0.6951 - val_precision: 0.9515\n"
          ]
        },
        {
          "data": {
            "text/plain": [
              "<keras.callbacks.History at 0x7fba741a8c90>"
            ]
          },
          "execution_count": null,
          "metadata": {},
          "output_type": "execute_result"
        }
      ]
    },
    {
      "cell_type": "code",
      "metadata": {
        "colab": {
          "background_save": true
        },
        "id": "N4GnDkME5uJC"
      },
      "source": [
        "model.save('vggUnetNucleiSeg50Epochs.h5')"
      ],
      "execution_count": null,
      "outputs": []
    },
    {
      "cell_type": "code",
      "metadata": {
        "id": "lkYosHnH46Tz"
      },
      "source": [
        ""
      ],
      "execution_count": null,
      "outputs": []
    }
  ]
}